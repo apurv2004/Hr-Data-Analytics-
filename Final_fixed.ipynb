{
 "cells": [
  {
   "cell_type": "code",
   "execution_count": 1,
   "id": "5429b76b-921b-4f83-9fd7-6b90047ea8e1",
   "metadata": {},
   "outputs": [],
   "source": [
    "import tensorflow as tf\n",
    "from tensorflow.keras.preprocessing.image import ImageDataGenerator\n",
    "import matplotlib.pyplot as plt\n",
    "import numpy as np\n",
    "import os\n",
    "import shutil\n",
    "import numpy as np"
   ]
  },
  {
   "cell_type": "markdown",
   "id": "d52a0895-2b4b-463a-9028-3435a568c2f4",
   "metadata": {},
   "source": [
    "# Split data"
   ]
  },
  {
   "cell_type": "code",
   "execution_count": 3,
   "id": "4ded383e-42fb-434f-a2e9-42bd14a4e621",
   "metadata": {},
   "outputs": [],
   "source": [
    "import os\n",
    "import shutil\n",
    "import numpy as np\n",
    "\n",
    "\n",
    "dataset_dir = r'Downloads\\wheat final'\n",
    "split_dir = r'Downloads\\split wheat data' # Where you want to save the split data\n",
    "\n",
    "# Create directories for split data\n",
    "train_dir = os.path.join(split_dir, 'train')\n",
    "val_dir = os.path.join(split_dir, 'val')\n",
    "test_dir = os.path.join(split_dir, 'test')\n",
    "\n",
    "os.makedirs(train_dir, exist_ok=True)\n",
    "os.makedirs(val_dir, exist_ok=True)\n",
    "os.makedirs(test_dir, exist_ok=True)\n",
    "\n",
    "# Subdirectories for each class\n",
    "classes = os.listdir(dataset_dir)\n",
    "for cls in classes:\n",
    "    os.makedirs(os.path.join(train_dir, cls), exist_ok=True)\n",
    "    os.makedirs(os.path.join(val_dir, cls), exist_ok=True)\n",
    "    os.makedirs(os.path.join(test_dir, cls), exist_ok=True)\n",
    "\n",
    "# Helper function to split images\n",
    "def split_data(src_dir, dest_dirs, split_ratios):\n",
    "    # src_dir: source directory with images\n",
    "    # dest_dirs: list of destination directories\n",
    "    # split_ratios: list of ratios for each split\n",
    "    \n",
    "    all_files = []\n",
    "    for cls in os.listdir(src_dir):\n",
    "        class_dir = os.path.join(src_dir, cls)\n",
    "        files = os.listdir(class_dir)\n",
    "        all_files.extend([(os.path.join(class_dir, file), cls) for file in files])\n",
    "\n",
    "    # Shuffle and split\n",
    "    np.random.shuffle(all_files)\n",
    "    total_files = len(all_files)\n",
    "    train_split = int(total_files * split_ratios[0])\n",
    "    val_split = int(total_files * (split_ratios[0] + split_ratios[1]))\n",
    "\n",
    "    for file_path, cls in all_files[:train_split]:\n",
    "        shutil.copy(file_path, os.path.join(dest_dirs[0], cls))\n",
    "    for file_path, cls in all_files[train_split:val_split]:\n",
    "        shutil.copy(file_path, os.path.join(dest_dirs[1], cls))\n",
    "    for file_path, cls in all_files[val_split:]:\n",
    "        shutil.copy(file_path, os.path.join(dest_dirs[2], cls))\n",
    "\n",
    "# Split ratios: 70% training, 15% validation, 15% test\n",
    "split_data(dataset_dir, [train_dir, val_dir, test_dir], [0.80, 0.10, 0.10])"
   ]
  },
  {
   "cell_type": "markdown",
   "id": "593518f5-a225-433b-9bb1-40ba58176d8d",
   "metadata": {},
   "source": [
    "# Set Up Data Generators"
   ]
  },
  {
   "cell_type": "code",
   "execution_count": 4,
   "id": "ef871fde-de60-4dca-adc1-783768adf09b",
   "metadata": {},
   "outputs": [
    {
     "name": "stdout",
     "output_type": "stream",
     "text": [
      "Found 5196 images belonging to 4 classes.\n",
      "Found 1319 images belonging to 4 classes.\n",
      "Found 1289 images belonging to 4 classes.\n"
     ]
    }
   ],
   "source": [
    "import tensorflow as tf\n",
    "from tensorflow.keras.preprocessing.image import ImageDataGenerator\n",
    "\n",
    "# Define paths to the split data\n",
    "train_dir = r'Downloads\\split wheat data\\train'\n",
    "val_dir = r'Downloads\\split wheat data\\val'\n",
    "test_dir = r'Downloads\\split wheat data\\test'\n",
    "\n",
    "# Create ImageDataGenerators for training, validation, and test datasets\n",
    "train_datagen = ImageDataGenerator(rescale=1./255)\n",
    "val_datagen = ImageDataGenerator(rescale=1./255)\n",
    "test_datagen = ImageDataGenerator(rescale=1./255)\n",
    "\n",
    "train_generator = train_datagen.flow_from_directory(\n",
    "    train_dir,\n",
    "    target_size=(224, 224),  # Adjust size as needed\n",
    "    batch_size=32,\n",
    "    class_mode='categorical'  # Use 'binary' if you have binary classification\n",
    ")\n",
    "\n",
    "validation_generator = val_datagen.flow_from_directory(\n",
    "    val_dir,\n",
    "    target_size=(224, 224),\n",
    "    batch_size=32,\n",
    "    class_mode='categorical'\n",
    ")\n",
    "\n",
    "test_generator = test_datagen.flow_from_directory(\n",
    "    test_dir,\n",
    "    target_size=(224, 224),\n",
    "    batch_size=32,\n",
    "    class_mode='categorical'\n",
    ")"
   ]
  },
  {
   "cell_type": "markdown",
   "id": "454c8f34-a302-4321-94e6-28d76ed16e84",
   "metadata": {},
   "source": [
    "# Model Training And Train Model"
   ]
  },
  {
   "cell_type": "code",
   "execution_count": 5,
   "id": "9509b3cf-93e9-40b9-b49f-14912a6d08d8",
   "metadata": {},
   "outputs": [
    {
     "name": "stderr",
     "output_type": "stream",
     "text": [
      "C:\\Users\\kulka\\AppData\\Local\\Programs\\Python\\Python312\\Lib\\site-packages\\keras\\src\\layers\\convolutional\\base_conv.py:107: UserWarning: Do not pass an `input_shape`/`input_dim` argument to a layer. When using Sequential models, prefer using an `Input(shape)` object as the first layer in the model instead.\n",
      "  super().__init__(activity_regularizer=activity_regularizer, **kwargs)\n"
     ]
    },
    {
     "name": "stdout",
     "output_type": "stream",
     "text": [
      "Epoch 1/10\n"
     ]
    },
    {
     "name": "stderr",
     "output_type": "stream",
     "text": [
      "C:\\Users\\kulka\\AppData\\Local\\Programs\\Python\\Python312\\Lib\\site-packages\\keras\\src\\trainers\\data_adapters\\py_dataset_adapter.py:122: UserWarning: Your `PyDataset` class should call `super().__init__(**kwargs)` in its constructor. `**kwargs` can include `workers`, `use_multiprocessing`, `max_queue_size`. Do not pass these arguments to `fit()`, as they will be ignored.\n",
      "  self._warn_if_super_not_called()\n"
     ]
    },
    {
     "name": "stdout",
     "output_type": "stream",
     "text": [
      "\u001b[1m162/162\u001b[0m \u001b[32m━━━━━━━━━━━━━━━━━━━━\u001b[0m\u001b[37m\u001b[0m \u001b[1m204s\u001b[0m 1s/step - accuracy: 0.5355 - loss: 1.7497 - val_accuracy: 0.7919 - val_loss: 0.5469\n",
      "Epoch 2/10\n",
      "\u001b[1m162/162\u001b[0m \u001b[32m━━━━━━━━━━━━━━━━━━━━\u001b[0m\u001b[37m\u001b[0m \u001b[1m1s\u001b[0m 886us/step - accuracy: 0.5625 - loss: 0.8235 - val_accuracy: 1.0000 - val_loss: 0.1418\n",
      "Epoch 3/10\n"
     ]
    },
    {
     "name": "stderr",
     "output_type": "stream",
     "text": [
      "C:\\Users\\kulka\\AppData\\Local\\Programs\\Python\\Python312\\Lib\\contextlib.py:158: UserWarning: Your input ran out of data; interrupting training. Make sure that your dataset or generator can generate at least `steps_per_epoch * epochs` batches. You may need to use the `.repeat()` function when building your dataset.\n",
      "  self.gen.throw(value)\n"
     ]
    },
    {
     "name": "stdout",
     "output_type": "stream",
     "text": [
      "\u001b[1m162/162\u001b[0m \u001b[32m━━━━━━━━━━━━━━━━━━━━\u001b[0m\u001b[37m\u001b[0m \u001b[1m194s\u001b[0m 1s/step - accuracy: 0.8207 - loss: 0.4727 - val_accuracy: 0.8636 - val_loss: 0.3688\n",
      "Epoch 4/10\n",
      "\u001b[1m162/162\u001b[0m \u001b[32m━━━━━━━━━━━━━━━━━━━━\u001b[0m\u001b[37m\u001b[0m \u001b[1m1s\u001b[0m 476us/step - accuracy: 0.7812 - loss: 0.3780 - val_accuracy: 0.7143 - val_loss: 0.7592\n",
      "Epoch 5/10\n",
      "\u001b[1m162/162\u001b[0m \u001b[32m━━━━━━━━━━━━━━━━━━━━\u001b[0m\u001b[37m\u001b[0m \u001b[1m193s\u001b[0m 1s/step - accuracy: 0.8825 - loss: 0.3127 - val_accuracy: 0.8666 - val_loss: 0.3303\n",
      "Epoch 6/10\n",
      "\u001b[1m162/162\u001b[0m \u001b[32m━━━━━━━━━━━━━━━━━━━━\u001b[0m\u001b[37m\u001b[0m \u001b[1m1s\u001b[0m 565us/step - accuracy: 0.8438 - loss: 0.2682 - val_accuracy: 0.7143 - val_loss: 0.9955\n",
      "Epoch 7/10\n",
      "\u001b[1m162/162\u001b[0m \u001b[32m━━━━━━━━━━━━━━━━━━━━\u001b[0m\u001b[37m\u001b[0m \u001b[1m193s\u001b[0m 1s/step - accuracy: 0.9264 - loss: 0.1912 - val_accuracy: 0.9520 - val_loss: 0.1453\n",
      "Epoch 8/10\n",
      "\u001b[1m162/162\u001b[0m \u001b[32m━━━━━━━━━━━━━━━━━━━━\u001b[0m\u001b[37m\u001b[0m \u001b[1m1s\u001b[0m 557us/step - accuracy: 0.9062 - loss: 0.2928 - val_accuracy: 0.8571 - val_loss: 0.1222\n",
      "Epoch 9/10\n",
      "\u001b[1m162/162\u001b[0m \u001b[32m━━━━━━━━━━━━━━━━━━━━\u001b[0m\u001b[37m\u001b[0m \u001b[1m194s\u001b[0m 1s/step - accuracy: 0.9698 - loss: 0.0906 - val_accuracy: 0.9428 - val_loss: 0.1766\n",
      "Epoch 10/10\n",
      "\u001b[1m162/162\u001b[0m \u001b[32m━━━━━━━━━━━━━━━━━━━━\u001b[0m\u001b[37m\u001b[0m \u001b[1m1s\u001b[0m 566us/step - accuracy: 0.9688 - loss: 0.2215 - val_accuracy: 1.0000 - val_loss: 0.0820\n"
     ]
    }
   ],
   "source": [
    "from tensorflow.keras.models import Sequential\n",
    "from tensorflow.keras.layers import Conv2D, MaxPooling2D, Flatten, Dense\n",
    "from tensorflow.keras.optimizers import Adam\n",
    "\n",
    "# Define your model\n",
    "model = Sequential([\n",
    "    Conv2D(32, (3, 3), activation='relu', input_shape=(224, 224, 3)),\n",
    "    MaxPooling2D((2, 2)),\n",
    "    Conv2D(64, (3, 3), activation='relu'),\n",
    "    MaxPooling2D((2, 2)),\n",
    "    Conv2D(128, (3, 3), activation='relu'),\n",
    "    MaxPooling2D((2, 2)),\n",
    "    Flatten(),\n",
    "    Dense(512, activation='relu'),\n",
    "    Dense(train_generator.num_classes, activation='softmax')  # Number of classes\n",
    "])\n",
    "\n",
    "# Compile the model\n",
    "model.compile(optimizer=Adam(),\n",
    "              loss='categorical_crossentropy',\n",
    "              metrics=['accuracy'])\n",
    "\n",
    "# Train the model\n",
    "history = model.fit(\n",
    "    train_generator,\n",
    "    steps_per_epoch=train_generator.samples // train_generator.batch_size,\n",
    "    epochs=10,  # Adjust number of epochs as needed\n",
    "    validation_data=validation_generator,\n",
    "    validation_steps=validation_generator.samples // validation_generator.batch_size\n",
    ")\n"
   ]
  },
  {
   "cell_type": "code",
   "execution_count": 6,
   "id": "ea31d308-bb74-40b2-b7f8-65b98a019cca",
   "metadata": {},
   "outputs": [
    {
     "name": "stdout",
     "output_type": "stream",
     "text": [
      "\u001b[1m40/40\u001b[0m \u001b[32m━━━━━━━━━━━━━━━━━━━━\u001b[0m\u001b[37m\u001b[0m \u001b[1m18s\u001b[0m 440ms/step - accuracy: 0.9220 - loss: 0.2179\n",
      "Test Accuracy: 0.93\n"
     ]
    }
   ],
   "source": [
    "test_loss, test_acc = model.evaluate(test_generator, steps=test_generator.samples // test_generator.batch_size)\n",
    "print(f'Test Accuracy: {test_acc:.2f}')\n"
   ]
  },
  {
   "cell_type": "code",
   "execution_count": 11,
   "id": "a6d10930-7dbf-421c-9481-0e70b4e98e20",
   "metadata": {},
   "outputs": [],
   "source": [
    "model.save('Final_fixed.keras')"
   ]
  },
  {
   "cell_type": "code",
   "execution_count": null,
   "id": "d3a47557-fd6f-4a1c-b29f-159fe5bb654a",
   "metadata": {},
   "outputs": [],
   "source": []
  },
  {
   "cell_type": "code",
   "execution_count": null,
   "id": "bdeb104e-61dc-4168-b916-0888dd7ce1b0",
   "metadata": {},
   "outputs": [],
   "source": []
  },
  {
   "cell_type": "code",
   "execution_count": null,
   "id": "c57301e0-df66-4950-a337-5f212a3aaf8e",
   "metadata": {},
   "outputs": [],
   "source": []
  }
 ],
 "metadata": {
  "kernelspec": {
   "display_name": "Python 3 (ipykernel)",
   "language": "python",
   "name": "python3"
  },
  "language_info": {
   "codemirror_mode": {
    "name": "ipython",
    "version": 3
   },
   "file_extension": ".py",
   "mimetype": "text/x-python",
   "name": "python",
   "nbconvert_exporter": "python",
   "pygments_lexer": "ipython3",
   "version": "3.12.5"
  }
 },
 "nbformat": 4,
 "nbformat_minor": 5
}
